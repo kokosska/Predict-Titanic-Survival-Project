{
 "cells": [
  {
   "cell_type": "markdown",
   "metadata": {},
   "source": [
    "## Introduction"
   ]
  },
  {
   "cell_type": "markdown",
   "metadata": {},
   "source": [
    "This is a project launched at Codecademy and it is a part of Data Scientist Career Path. More information [here](https://www.codecademy.com/learn/paths/data-science)"
   ]
  },
  {
   "cell_type": "markdown",
   "metadata": {},
   "source": [
    "## About Project"
   ]
  },
  {
   "cell_type": "markdown",
   "metadata": {},
   "source": [
    "The RMS Titanic set sail on its maiden voyage in 1912, crossing the Atlantic from Southampton, England to New York City. The ship never completed the voyage, sinking to the bottom of the Atlantic Ocean after hitting an iceberg, bringing down 1,502 of 2,224 passengers onboard."
   ]
  },
  {
   "cell_type": "markdown",
   "metadata": {},
   "source": [
    "In this project I will create a **Logistic Regression model** that predicts which passengers survived the sinking of the Titanic, based on features like age and class."
   ]
  },
  {
   "cell_type": "markdown",
   "metadata": {},
   "source": [
    "The data we will be using for training our model is provided by `Kaggle`."
   ]
  },
  {
   "cell_type": "markdown",
   "metadata": {},
   "source": [
    "## About Data"
   ]
  },
  {
   "cell_type": "markdown",
   "metadata": {},
   "source": [
    "The file `train.csv` contains the data of 891 passengers onboard the Titanic when it sank that fateful day."
   ]
  },
  {
   "cell_type": "markdown",
   "metadata": {},
   "source": [
    "#### Task 1 - import Python libraries"
   ]
  },
  {
   "cell_type": "code",
   "execution_count": 1,
   "metadata": {},
   "outputs": [],
   "source": [
    "import pandas as pd\n",
    "import numpy as np\n",
    "import matplotlib.pyplot as plt\n",
    "from sklearn.linear_model import LogisticRegression\n",
    "from sklearn.model_selection import train_test_split\n",
    "from sklearn.preprocessing import StandardScaler"
   ]
  },
  {
   "cell_type": "code",
   "execution_count": 2,
   "metadata": {},
   "outputs": [],
   "source": [
    "passangers = pd.read_csv('train.csv')"
   ]
  },
  {
   "cell_type": "code",
   "execution_count": 3,
   "metadata": {},
   "outputs": [
    {
     "data": {
      "text/plain": [
       "(891, 12)"
      ]
     },
     "execution_count": 3,
     "metadata": {},
     "output_type": "execute_result"
    }
   ],
   "source": [
    "passangers.shape"
   ]
  },
  {
   "cell_type": "code",
   "execution_count": 4,
   "metadata": {},
   "outputs": [
    {
     "data": {
      "text/html": [
       "<div>\n",
       "<style scoped>\n",
       "    .dataframe tbody tr th:only-of-type {\n",
       "        vertical-align: middle;\n",
       "    }\n",
       "\n",
       "    .dataframe tbody tr th {\n",
       "        vertical-align: top;\n",
       "    }\n",
       "\n",
       "    .dataframe thead th {\n",
       "        text-align: right;\n",
       "    }\n",
       "</style>\n",
       "<table border=\"1\" class=\"dataframe\">\n",
       "  <thead>\n",
       "    <tr style=\"text-align: right;\">\n",
       "      <th></th>\n",
       "      <th>PassengerId</th>\n",
       "      <th>Survived</th>\n",
       "      <th>Pclass</th>\n",
       "      <th>Name</th>\n",
       "      <th>Sex</th>\n",
       "      <th>Age</th>\n",
       "      <th>SibSp</th>\n",
       "      <th>Parch</th>\n",
       "      <th>Ticket</th>\n",
       "      <th>Fare</th>\n",
       "      <th>Cabin</th>\n",
       "      <th>Embarked</th>\n",
       "    </tr>\n",
       "  </thead>\n",
       "  <tbody>\n",
       "    <tr>\n",
       "      <th>0</th>\n",
       "      <td>1</td>\n",
       "      <td>0</td>\n",
       "      <td>3</td>\n",
       "      <td>Braund, Mr. Owen Harris</td>\n",
       "      <td>male</td>\n",
       "      <td>22.0</td>\n",
       "      <td>1</td>\n",
       "      <td>0</td>\n",
       "      <td>A/5 21171</td>\n",
       "      <td>7.2500</td>\n",
       "      <td>NaN</td>\n",
       "      <td>S</td>\n",
       "    </tr>\n",
       "    <tr>\n",
       "      <th>1</th>\n",
       "      <td>2</td>\n",
       "      <td>1</td>\n",
       "      <td>1</td>\n",
       "      <td>Cumings, Mrs. John Bradley (Florence Briggs Th...</td>\n",
       "      <td>female</td>\n",
       "      <td>38.0</td>\n",
       "      <td>1</td>\n",
       "      <td>0</td>\n",
       "      <td>PC 17599</td>\n",
       "      <td>71.2833</td>\n",
       "      <td>C85</td>\n",
       "      <td>C</td>\n",
       "    </tr>\n",
       "    <tr>\n",
       "      <th>2</th>\n",
       "      <td>3</td>\n",
       "      <td>1</td>\n",
       "      <td>3</td>\n",
       "      <td>Heikkinen, Miss. Laina</td>\n",
       "      <td>female</td>\n",
       "      <td>26.0</td>\n",
       "      <td>0</td>\n",
       "      <td>0</td>\n",
       "      <td>STON/O2. 3101282</td>\n",
       "      <td>7.9250</td>\n",
       "      <td>NaN</td>\n",
       "      <td>S</td>\n",
       "    </tr>\n",
       "    <tr>\n",
       "      <th>3</th>\n",
       "      <td>4</td>\n",
       "      <td>1</td>\n",
       "      <td>1</td>\n",
       "      <td>Futrelle, Mrs. Jacques Heath (Lily May Peel)</td>\n",
       "      <td>female</td>\n",
       "      <td>35.0</td>\n",
       "      <td>1</td>\n",
       "      <td>0</td>\n",
       "      <td>113803</td>\n",
       "      <td>53.1000</td>\n",
       "      <td>C123</td>\n",
       "      <td>S</td>\n",
       "    </tr>\n",
       "    <tr>\n",
       "      <th>4</th>\n",
       "      <td>5</td>\n",
       "      <td>0</td>\n",
       "      <td>3</td>\n",
       "      <td>Allen, Mr. William Henry</td>\n",
       "      <td>male</td>\n",
       "      <td>35.0</td>\n",
       "      <td>0</td>\n",
       "      <td>0</td>\n",
       "      <td>373450</td>\n",
       "      <td>8.0500</td>\n",
       "      <td>NaN</td>\n",
       "      <td>S</td>\n",
       "    </tr>\n",
       "  </tbody>\n",
       "</table>\n",
       "</div>"
      ],
      "text/plain": [
       "   PassengerId  Survived  Pclass  \\\n",
       "0            1         0       3   \n",
       "1            2         1       1   \n",
       "2            3         1       3   \n",
       "3            4         1       1   \n",
       "4            5         0       3   \n",
       "\n",
       "                                                Name     Sex   Age  SibSp  \\\n",
       "0                            Braund, Mr. Owen Harris    male  22.0      1   \n",
       "1  Cumings, Mrs. John Bradley (Florence Briggs Th...  female  38.0      1   \n",
       "2                             Heikkinen, Miss. Laina  female  26.0      0   \n",
       "3       Futrelle, Mrs. Jacques Heath (Lily May Peel)  female  35.0      1   \n",
       "4                           Allen, Mr. William Henry    male  35.0      0   \n",
       "\n",
       "   Parch            Ticket     Fare Cabin Embarked  \n",
       "0      0         A/5 21171   7.2500   NaN        S  \n",
       "1      0          PC 17599  71.2833   C85        C  \n",
       "2      0  STON/O2. 3101282   7.9250   NaN        S  \n",
       "3      0            113803  53.1000  C123        S  \n",
       "4      0            373450   8.0500   NaN        S  "
      ]
     },
     "execution_count": 4,
     "metadata": {},
     "output_type": "execute_result"
    }
   ],
   "source": [
    "passangers.head()"
   ]
  },
  {
   "cell_type": "markdown",
   "metadata": {},
   "source": [
    "#### Task 3"
   ]
  },
  {
   "cell_type": "markdown",
   "metadata": {},
   "source": [
    "Given the saying, “women and children first,” `Sex` and `Age` seem like good features to predict survival. Let’s map the text values in the Sex column to a numerical value. Update Sex such that all values female are replaced with 1 and all values male are replaced with 0."
   ]
  },
  {
   "cell_type": "code",
   "execution_count": 5,
   "metadata": {},
   "outputs": [],
   "source": [
    "passangers['Sex'] = passangers['Sex'].map({'male': 0, 'female': 1})"
   ]
  },
  {
   "cell_type": "code",
   "execution_count": 6,
   "metadata": {},
   "outputs": [
    {
     "data": {
      "text/html": [
       "<div>\n",
       "<style scoped>\n",
       "    .dataframe tbody tr th:only-of-type {\n",
       "        vertical-align: middle;\n",
       "    }\n",
       "\n",
       "    .dataframe tbody tr th {\n",
       "        vertical-align: top;\n",
       "    }\n",
       "\n",
       "    .dataframe thead th {\n",
       "        text-align: right;\n",
       "    }\n",
       "</style>\n",
       "<table border=\"1\" class=\"dataframe\">\n",
       "  <thead>\n",
       "    <tr style=\"text-align: right;\">\n",
       "      <th></th>\n",
       "      <th>PassengerId</th>\n",
       "      <th>Survived</th>\n",
       "      <th>Pclass</th>\n",
       "      <th>Name</th>\n",
       "      <th>Sex</th>\n",
       "      <th>Age</th>\n",
       "      <th>SibSp</th>\n",
       "      <th>Parch</th>\n",
       "      <th>Ticket</th>\n",
       "      <th>Fare</th>\n",
       "      <th>Cabin</th>\n",
       "      <th>Embarked</th>\n",
       "    </tr>\n",
       "  </thead>\n",
       "  <tbody>\n",
       "    <tr>\n",
       "      <th>0</th>\n",
       "      <td>1</td>\n",
       "      <td>0</td>\n",
       "      <td>3</td>\n",
       "      <td>Braund, Mr. Owen Harris</td>\n",
       "      <td>0</td>\n",
       "      <td>22.0</td>\n",
       "      <td>1</td>\n",
       "      <td>0</td>\n",
       "      <td>A/5 21171</td>\n",
       "      <td>7.2500</td>\n",
       "      <td>NaN</td>\n",
       "      <td>S</td>\n",
       "    </tr>\n",
       "    <tr>\n",
       "      <th>1</th>\n",
       "      <td>2</td>\n",
       "      <td>1</td>\n",
       "      <td>1</td>\n",
       "      <td>Cumings, Mrs. John Bradley (Florence Briggs Th...</td>\n",
       "      <td>1</td>\n",
       "      <td>38.0</td>\n",
       "      <td>1</td>\n",
       "      <td>0</td>\n",
       "      <td>PC 17599</td>\n",
       "      <td>71.2833</td>\n",
       "      <td>C85</td>\n",
       "      <td>C</td>\n",
       "    </tr>\n",
       "    <tr>\n",
       "      <th>2</th>\n",
       "      <td>3</td>\n",
       "      <td>1</td>\n",
       "      <td>3</td>\n",
       "      <td>Heikkinen, Miss. Laina</td>\n",
       "      <td>1</td>\n",
       "      <td>26.0</td>\n",
       "      <td>0</td>\n",
       "      <td>0</td>\n",
       "      <td>STON/O2. 3101282</td>\n",
       "      <td>7.9250</td>\n",
       "      <td>NaN</td>\n",
       "      <td>S</td>\n",
       "    </tr>\n",
       "    <tr>\n",
       "      <th>3</th>\n",
       "      <td>4</td>\n",
       "      <td>1</td>\n",
       "      <td>1</td>\n",
       "      <td>Futrelle, Mrs. Jacques Heath (Lily May Peel)</td>\n",
       "      <td>1</td>\n",
       "      <td>35.0</td>\n",
       "      <td>1</td>\n",
       "      <td>0</td>\n",
       "      <td>113803</td>\n",
       "      <td>53.1000</td>\n",
       "      <td>C123</td>\n",
       "      <td>S</td>\n",
       "    </tr>\n",
       "    <tr>\n",
       "      <th>4</th>\n",
       "      <td>5</td>\n",
       "      <td>0</td>\n",
       "      <td>3</td>\n",
       "      <td>Allen, Mr. William Henry</td>\n",
       "      <td>0</td>\n",
       "      <td>35.0</td>\n",
       "      <td>0</td>\n",
       "      <td>0</td>\n",
       "      <td>373450</td>\n",
       "      <td>8.0500</td>\n",
       "      <td>NaN</td>\n",
       "      <td>S</td>\n",
       "    </tr>\n",
       "  </tbody>\n",
       "</table>\n",
       "</div>"
      ],
      "text/plain": [
       "   PassengerId  Survived  Pclass  \\\n",
       "0            1         0       3   \n",
       "1            2         1       1   \n",
       "2            3         1       3   \n",
       "3            4         1       1   \n",
       "4            5         0       3   \n",
       "\n",
       "                                                Name  Sex   Age  SibSp  Parch  \\\n",
       "0                            Braund, Mr. Owen Harris    0  22.0      1      0   \n",
       "1  Cumings, Mrs. John Bradley (Florence Briggs Th...    1  38.0      1      0   \n",
       "2                             Heikkinen, Miss. Laina    1  26.0      0      0   \n",
       "3       Futrelle, Mrs. Jacques Heath (Lily May Peel)    1  35.0      1      0   \n",
       "4                           Allen, Mr. William Henry    0  35.0      0      0   \n",
       "\n",
       "             Ticket     Fare Cabin Embarked  \n",
       "0         A/5 21171   7.2500   NaN        S  \n",
       "1          PC 17599  71.2833   C85        C  \n",
       "2  STON/O2. 3101282   7.9250   NaN        S  \n",
       "3            113803  53.1000  C123        S  \n",
       "4            373450   8.0500   NaN        S  "
      ]
     },
     "execution_count": 6,
     "metadata": {},
     "output_type": "execute_result"
    }
   ],
   "source": [
    "passangers.head()"
   ]
  },
  {
   "cell_type": "markdown",
   "metadata": {},
   "source": [
    "#### Task 4"
   ]
  },
  {
   "cell_type": "markdown",
   "metadata": {},
   "source": [
    "Let’s take a look at `Age`. Print passengers['Age'].values. You can see we have multiple missing values, or nans. Fill all the empty Age values in passengers with the mean age."
   ]
  },
  {
   "cell_type": "code",
   "execution_count": 7,
   "metadata": {},
   "outputs": [
    {
     "name": "stdout",
     "output_type": "stream",
     "text": [
      "24.00    30\n",
      "22.00    27\n",
      "18.00    26\n",
      "19.00    25\n",
      "30.00    25\n",
      "         ..\n",
      "55.50     1\n",
      "70.50     1\n",
      "66.00     1\n",
      "23.50     1\n",
      "0.42      1\n",
      "Name: Age, Length: 88, dtype: int64\n"
     ]
    }
   ],
   "source": [
    "print(passangers['Age'].value_counts())"
   ]
  },
  {
   "cell_type": "code",
   "execution_count": 8,
   "metadata": {},
   "outputs": [],
   "source": [
    "passangers['Age'] = passangers['Age'].fillna(value = passangers['Age'].mean())"
   ]
  },
  {
   "cell_type": "markdown",
   "metadata": {},
   "source": [
    "#### Task 5"
   ]
  },
  {
   "cell_type": "markdown",
   "metadata": {},
   "source": [
    "Given the strict class system onboard the Titanic, let’s utilize the `Pclass` column, or the passenger class, as another feature. Create a new column named `FirstClas`s that stores 1 for all passengers in first class and 0 for all other passengers."
   ]
  },
  {
   "cell_type": "code",
   "execution_count": 9,
   "metadata": {},
   "outputs": [],
   "source": [
    "passangers['FirstClass'] = passangers['Pclass'].apply(lambda x: 1 if x == 1 else 0)"
   ]
  },
  {
   "cell_type": "markdown",
   "metadata": {},
   "source": [
    "#### Task 6"
   ]
  },
  {
   "cell_type": "markdown",
   "metadata": {},
   "source": [
    "Create a new column named `SecondClass` that stores 1 for all passengers in second class and 0 for all other passengers."
   ]
  },
  {
   "cell_type": "code",
   "execution_count": 10,
   "metadata": {},
   "outputs": [],
   "source": [
    "passangers['SecondClass'] = passangers['Pclass'].apply(lambda x: 1 if x == 2 else 0)"
   ]
  },
  {
   "cell_type": "code",
   "execution_count": 11,
   "metadata": {},
   "outputs": [
    {
     "data": {
      "text/html": [
       "<div>\n",
       "<style scoped>\n",
       "    .dataframe tbody tr th:only-of-type {\n",
       "        vertical-align: middle;\n",
       "    }\n",
       "\n",
       "    .dataframe tbody tr th {\n",
       "        vertical-align: top;\n",
       "    }\n",
       "\n",
       "    .dataframe thead th {\n",
       "        text-align: right;\n",
       "    }\n",
       "</style>\n",
       "<table border=\"1\" class=\"dataframe\">\n",
       "  <thead>\n",
       "    <tr style=\"text-align: right;\">\n",
       "      <th></th>\n",
       "      <th>PassengerId</th>\n",
       "      <th>Survived</th>\n",
       "      <th>Pclass</th>\n",
       "      <th>Name</th>\n",
       "      <th>Sex</th>\n",
       "      <th>Age</th>\n",
       "      <th>SibSp</th>\n",
       "      <th>Parch</th>\n",
       "      <th>Ticket</th>\n",
       "      <th>Fare</th>\n",
       "      <th>Cabin</th>\n",
       "      <th>Embarked</th>\n",
       "      <th>FirstClass</th>\n",
       "      <th>SecondClass</th>\n",
       "    </tr>\n",
       "  </thead>\n",
       "  <tbody>\n",
       "    <tr>\n",
       "      <th>0</th>\n",
       "      <td>1</td>\n",
       "      <td>0</td>\n",
       "      <td>3</td>\n",
       "      <td>Braund, Mr. Owen Harris</td>\n",
       "      <td>0</td>\n",
       "      <td>22.0</td>\n",
       "      <td>1</td>\n",
       "      <td>0</td>\n",
       "      <td>A/5 21171</td>\n",
       "      <td>7.2500</td>\n",
       "      <td>NaN</td>\n",
       "      <td>S</td>\n",
       "      <td>0</td>\n",
       "      <td>0</td>\n",
       "    </tr>\n",
       "    <tr>\n",
       "      <th>1</th>\n",
       "      <td>2</td>\n",
       "      <td>1</td>\n",
       "      <td>1</td>\n",
       "      <td>Cumings, Mrs. John Bradley (Florence Briggs Th...</td>\n",
       "      <td>1</td>\n",
       "      <td>38.0</td>\n",
       "      <td>1</td>\n",
       "      <td>0</td>\n",
       "      <td>PC 17599</td>\n",
       "      <td>71.2833</td>\n",
       "      <td>C85</td>\n",
       "      <td>C</td>\n",
       "      <td>1</td>\n",
       "      <td>0</td>\n",
       "    </tr>\n",
       "    <tr>\n",
       "      <th>2</th>\n",
       "      <td>3</td>\n",
       "      <td>1</td>\n",
       "      <td>3</td>\n",
       "      <td>Heikkinen, Miss. Laina</td>\n",
       "      <td>1</td>\n",
       "      <td>26.0</td>\n",
       "      <td>0</td>\n",
       "      <td>0</td>\n",
       "      <td>STON/O2. 3101282</td>\n",
       "      <td>7.9250</td>\n",
       "      <td>NaN</td>\n",
       "      <td>S</td>\n",
       "      <td>0</td>\n",
       "      <td>0</td>\n",
       "    </tr>\n",
       "    <tr>\n",
       "      <th>3</th>\n",
       "      <td>4</td>\n",
       "      <td>1</td>\n",
       "      <td>1</td>\n",
       "      <td>Futrelle, Mrs. Jacques Heath (Lily May Peel)</td>\n",
       "      <td>1</td>\n",
       "      <td>35.0</td>\n",
       "      <td>1</td>\n",
       "      <td>0</td>\n",
       "      <td>113803</td>\n",
       "      <td>53.1000</td>\n",
       "      <td>C123</td>\n",
       "      <td>S</td>\n",
       "      <td>1</td>\n",
       "      <td>0</td>\n",
       "    </tr>\n",
       "    <tr>\n",
       "      <th>4</th>\n",
       "      <td>5</td>\n",
       "      <td>0</td>\n",
       "      <td>3</td>\n",
       "      <td>Allen, Mr. William Henry</td>\n",
       "      <td>0</td>\n",
       "      <td>35.0</td>\n",
       "      <td>0</td>\n",
       "      <td>0</td>\n",
       "      <td>373450</td>\n",
       "      <td>8.0500</td>\n",
       "      <td>NaN</td>\n",
       "      <td>S</td>\n",
       "      <td>0</td>\n",
       "      <td>0</td>\n",
       "    </tr>\n",
       "  </tbody>\n",
       "</table>\n",
       "</div>"
      ],
      "text/plain": [
       "   PassengerId  Survived  Pclass  \\\n",
       "0            1         0       3   \n",
       "1            2         1       1   \n",
       "2            3         1       3   \n",
       "3            4         1       1   \n",
       "4            5         0       3   \n",
       "\n",
       "                                                Name  Sex   Age  SibSp  Parch  \\\n",
       "0                            Braund, Mr. Owen Harris    0  22.0      1      0   \n",
       "1  Cumings, Mrs. John Bradley (Florence Briggs Th...    1  38.0      1      0   \n",
       "2                             Heikkinen, Miss. Laina    1  26.0      0      0   \n",
       "3       Futrelle, Mrs. Jacques Heath (Lily May Peel)    1  35.0      1      0   \n",
       "4                           Allen, Mr. William Henry    0  35.0      0      0   \n",
       "\n",
       "             Ticket     Fare Cabin Embarked  FirstClass  SecondClass  \n",
       "0         A/5 21171   7.2500   NaN        S           0            0  \n",
       "1          PC 17599  71.2833   C85        C           1            0  \n",
       "2  STON/O2. 3101282   7.9250   NaN        S           0            0  \n",
       "3            113803  53.1000  C123        S           1            0  \n",
       "4            373450   8.0500   NaN        S           0            0  "
      ]
     },
     "execution_count": 11,
     "metadata": {},
     "output_type": "execute_result"
    }
   ],
   "source": [
    "passangers.head()"
   ]
  },
  {
   "cell_type": "markdown",
   "metadata": {},
   "source": [
    "#### Task 7"
   ]
  },
  {
   "cell_type": "markdown",
   "metadata": {},
   "source": [
    "Now that we have cleaned our data, let’s select the columns we want to build our model on.\n",
    "\n",
    "Select columns `Sex`, `Age`, `FirstClass`, and `SecondClas`s and store them in a variable named `features`.\n",
    "\n",
    "Select column `Survived` and store it a variable named `survival`."
   ]
  },
  {
   "cell_type": "code",
   "execution_count": 12,
   "metadata": {},
   "outputs": [],
   "source": [
    "features = passangers [['Sex', 'Age', 'FirstClass', 'SecondClass']]\n",
    "survival = passangers['Survived']"
   ]
  },
  {
   "cell_type": "markdown",
   "metadata": {},
   "source": [
    "#### Task 8"
   ]
  },
  {
   "cell_type": "markdown",
   "metadata": {},
   "source": [
    "Split the data into training and test sets using sklearn‘s `train_test_split() method`. We’ll use the training set to train the model and the test set to evaluate the model."
   ]
  },
  {
   "cell_type": "code",
   "execution_count": 13,
   "metadata": {},
   "outputs": [],
   "source": [
    "x_train, x_test, y_train, y_test = train_test_split(features, survival, train_size = 0.8, test_size = 0.2)"
   ]
  },
  {
   "cell_type": "markdown",
   "metadata": {},
   "source": [
    "#### Task 9"
   ]
  },
  {
   "cell_type": "markdown",
   "metadata": {},
   "source": [
    "Since sklearn‘s Logistic Regression implementation uses Regularization, we need to scale our feature data.\n",
    "\n",
    "Create a StandardScaler object, .fit_transform() it on the training features, and .transform() the test features."
   ]
  },
  {
   "cell_type": "code",
   "execution_count": 14,
   "metadata": {},
   "outputs": [
    {
     "data": {
      "text/plain": [
       "array([[-7.40152746e-01, -3.10489966e-01, -5.66537509e-01,\n",
       "         1.91143788e+00],\n",
       "       [-7.40152746e-01, -2.43891447e-02, -5.66537509e-01,\n",
       "        -5.23166361e-01],\n",
       "       [ 1.35107247e+00, -6.19861929e-01,  1.76510819e+00,\n",
       "        -5.23166361e-01],\n",
       "       [-7.40152746e-01,  9.26997885e-01, -5.66537509e-01,\n",
       "        -5.23166361e-01],\n",
       "       [ 1.35107247e+00,  1.70042779e+00,  1.76510819e+00,\n",
       "        -5.23166361e-01],\n",
       "       [-7.40152746e-01, -2.25721304e+00, -5.66537509e-01,\n",
       "         1.91143788e+00],\n",
       "       [-7.40152746e-01, -1.11800367e-03, -5.66537509e-01,\n",
       "        -5.23166361e-01],\n",
       "       [-7.40152746e-01, -2.43891447e-02, -5.66537509e-01,\n",
       "        -5.23166361e-01],\n",
       "       [-7.40152746e-01, -6.97204920e-01, -5.66537509e-01,\n",
       "        -5.23166361e-01],\n",
       "       [-7.40152746e-01, -2.43891447e-02, -5.66537509e-01,\n",
       "        -5.23166361e-01],\n",
       "       [ 1.35107247e+00, -1.62532081e+00, -5.66537509e-01,\n",
       "        -5.23166361e-01],\n",
       "       [-7.40152746e-01,  1.00434088e+00, -5.66537509e-01,\n",
       "        -5.23166361e-01],\n",
       "       [-7.40152746e-01,  2.47385770e+00,  1.76510819e+00,\n",
       "        -5.23166361e-01],\n",
       "       [-7.40152746e-01, -7.74547911e-01, -5.66537509e-01,\n",
       "        -5.23166361e-01],\n",
       "       [-7.40152746e-01, -3.87832957e-01, -5.66537509e-01,\n",
       "        -5.23166361e-01],\n",
       "       [-7.40152746e-01, -2.24406473e+00, -5.66537509e-01,\n",
       "        -5.23166361e-01],\n",
       "       [-7.40152746e-01, -2.43891447e-02, -5.66537509e-01,\n",
       "        -5.23166361e-01],\n",
       "       [-7.40152746e-01, -3.10489966e-01, -5.66537509e-01,\n",
       "        -5.23166361e-01],\n",
       "       [-7.40152746e-01, -2.43891447e-02, -5.66537509e-01,\n",
       "        -5.23166361e-01],\n",
       "       [ 1.35107247e+00, -1.55803985e-01, -5.66537509e-01,\n",
       "         1.91143788e+00],\n",
       "       [-7.40152746e-01, -1.23860585e+00, -5.66537509e-01,\n",
       "        -5.23166361e-01],\n",
       "       [ 1.35107247e+00, -4.65175948e-01,  1.76510819e+00,\n",
       "        -5.23166361e-01],\n",
       "       [ 1.35107247e+00,  1.15902686e+00, -5.66537509e-01,\n",
       "         1.91143788e+00],\n",
       "       [-7.40152746e-01,  1.85511377e+00, -5.66537509e-01,\n",
       "         1.91143788e+00],\n",
       "       [-7.40152746e-01,  3.85596950e-01, -5.66537509e-01,\n",
       "        -5.23166361e-01],\n",
       "       [-7.40152746e-01, -6.19861929e-01, -5.66537509e-01,\n",
       "        -5.23166361e-01],\n",
       "       [-7.40152746e-01, -2.43891447e-02, -5.66537509e-01,\n",
       "        -5.23166361e-01],\n",
       "       [-7.40152746e-01, -1.85734978e+00, -5.66537509e-01,\n",
       "        -5.23166361e-01],\n",
       "       [ 1.35107247e+00, -1.62532081e+00, -5.66537509e-01,\n",
       "        -5.23166361e-01],\n",
       "       [ 1.35107247e+00, -3.87832957e-01,  1.76510819e+00,\n",
       "        -5.23166361e-01],\n",
       "       [ 1.35107247e+00,  7.62249870e-02, -5.66537509e-01,\n",
       "        -5.23166361e-01],\n",
       "       [-7.40152746e-01, -1.62532081e+00, -5.66537509e-01,\n",
       "        -5.23166361e-01],\n",
       "       [ 1.35107247e+00, -3.10489966e-01,  1.76510819e+00,\n",
       "        -5.23166361e-01],\n",
       "       [-7.40152746e-01, -2.43891447e-02, -5.66537509e-01,\n",
       "        -5.23166361e-01],\n",
       "       [-7.40152746e-01, -6.19861929e-01, -5.66537509e-01,\n",
       "        -5.23166361e-01],\n",
       "       [-7.40152746e-01, -2.43891447e-02, -5.66537509e-01,\n",
       "        -5.23166361e-01],\n",
       "       [-7.40152746e-01, -3.87832957e-01, -5.66537509e-01,\n",
       "        -5.23166361e-01],\n",
       "       [-7.40152746e-01, -5.42518939e-01, -5.66537509e-01,\n",
       "         1.91143788e+00],\n",
       "       [ 1.35107247e+00,  6.94968913e-01,  1.76510819e+00,\n",
       "        -5.23166361e-01],\n",
       "       [-7.40152746e-01, -2.43891447e-02, -5.66537509e-01,\n",
       "        -5.23166361e-01],\n",
       "       [-7.40152746e-01, -2.33146976e-01,  1.76510819e+00,\n",
       "        -5.23166361e-01],\n",
       "       [ 1.35107247e+00, -1.08391987e+00, -5.66537509e-01,\n",
       "        -5.23166361e-01],\n",
       "       [-7.40152746e-01, -2.43891447e-02, -5.66537509e-01,\n",
       "        -5.23166361e-01],\n",
       "       [-7.40152746e-01, -2.43891447e-02, -5.66537509e-01,\n",
       "        -5.23166361e-01],\n",
       "       [ 1.35107247e+00, -1.85734978e+00, -5.66537509e-01,\n",
       "         1.91143788e+00],\n",
       "       [-7.40152746e-01, -1.08391987e+00, -5.66537509e-01,\n",
       "        -5.23166361e-01],\n",
       "       [-7.40152746e-01,  6.94968913e-01, -5.66537509e-01,\n",
       "        -5.23166361e-01],\n",
       "       [-7.40152746e-01, -2.16672174e+00, -5.66537509e-01,\n",
       "        -5.23166361e-01],\n",
       "       [-7.40152746e-01, -2.43891447e-02, -5.66537509e-01,\n",
       "        -5.23166361e-01],\n",
       "       [-7.40152746e-01,  6.94968913e-01, -5.66537509e-01,\n",
       "         1.91143788e+00],\n",
       "       [ 1.35107247e+00,  1.08168387e+00,  1.76510819e+00,\n",
       "        -5.23166361e-01],\n",
       "       [ 1.35107247e+00,  2.47385770e+00,  1.76510819e+00,\n",
       "        -5.23166361e-01],\n",
       "       [-7.40152746e-01, -2.43891447e-02, -5.66537509e-01,\n",
       "        -5.23166361e-01],\n",
       "       [-7.40152746e-01, -1.55803985e-01, -5.66537509e-01,\n",
       "        -5.23166361e-01],\n",
       "       [-7.40152746e-01,  2.30910968e-01, -5.66537509e-01,\n",
       "        -5.23166361e-01],\n",
       "       [ 1.35107247e+00,  2.08714275e+00, -5.66537509e-01,\n",
       "         1.91143788e+00],\n",
       "       [ 1.35107247e+00, -7.74547911e-01, -5.66537509e-01,\n",
       "        -5.23166361e-01],\n",
       "       [ 1.35107247e+00, -3.10489966e-01, -5.66537509e-01,\n",
       "        -5.23166361e-01],\n",
       "       [-7.40152746e-01, -3.87832957e-01, -5.66537509e-01,\n",
       "         1.91143788e+00],\n",
       "       [-7.40152746e-01, -2.43891447e-02, -5.66537509e-01,\n",
       "        -5.23166361e-01],\n",
       "       [ 1.35107247e+00,  1.77777078e+00,  1.76510819e+00,\n",
       "        -5.23166361e-01],\n",
       "       [ 1.35107247e+00, -1.11800367e-03,  1.76510819e+00,\n",
       "        -5.23166361e-01],\n",
       "       [ 1.35107247e+00, -1.08391987e+00,  1.76510819e+00,\n",
       "        -5.23166361e-01],\n",
       "       [-7.40152746e-01,  4.62939941e-01,  1.76510819e+00,\n",
       "        -5.23166361e-01],\n",
       "       [ 1.35107247e+00,  1.93245676e+00, -5.66537509e-01,\n",
       "         1.91143788e+00],\n",
       "       [-7.40152746e-01, -3.10489966e-01, -5.66537509e-01,\n",
       "        -5.23166361e-01],\n",
       "       [ 1.35107247e+00, -2.43891447e-02, -5.66537509e-01,\n",
       "        -5.23166361e-01],\n",
       "       [-7.40152746e-01,  1.62308480e+00, -5.66537509e-01,\n",
       "         1.91143788e+00],\n",
       "       [-7.40152746e-01, -6.97204920e-01, -5.66537509e-01,\n",
       "        -5.23166361e-01],\n",
       "       [-7.40152746e-01, -2.43891447e-02,  1.76510819e+00,\n",
       "        -5.23166361e-01],\n",
       "       [-7.40152746e-01, -2.33146976e-01, -5.66537509e-01,\n",
       "         1.91143788e+00],\n",
       "       [ 1.35107247e+00, -7.84609944e-02, -5.66537509e-01,\n",
       "        -5.23166361e-01],\n",
       "       [-7.40152746e-01, -2.43891447e-02,  1.76510819e+00,\n",
       "        -5.23166361e-01],\n",
       "       [-7.40152746e-01, -3.87832957e-01, -5.66537509e-01,\n",
       "        -5.23166361e-01],\n",
       "       [-7.40152746e-01, -8.51890901e-01,  1.76510819e+00,\n",
       "        -5.23166361e-01],\n",
       "       [-7.40152746e-01, -1.70266380e+00, -5.66537509e-01,\n",
       "        -5.23166361e-01],\n",
       "       [ 1.35107247e+00, -1.23860585e+00, -5.66537509e-01,\n",
       "        -5.23166361e-01],\n",
       "       [ 1.35107247e+00, -2.01203576e+00, -5.66537509e-01,\n",
       "        -5.23166361e-01],\n",
       "       [-7.40152746e-01, -2.43891447e-02, -5.66537509e-01,\n",
       "        -5.23166361e-01],\n",
       "       [ 1.35107247e+00,  1.53567978e-01, -5.66537509e-01,\n",
       "        -5.23166361e-01],\n",
       "       [ 1.35107247e+00, -1.93469277e+00, -5.66537509e-01,\n",
       "        -5.23166361e-01],\n",
       "       [-7.40152746e-01, -3.10489966e-01, -5.66537509e-01,\n",
       "        -5.23166361e-01],\n",
       "       [ 1.35107247e+00,  3.08253959e-01, -5.66537509e-01,\n",
       "         1.91143788e+00],\n",
       "       [-7.40152746e-01, -2.43891447e-02,  1.76510819e+00,\n",
       "        -5.23166361e-01],\n",
       "       [ 1.35107247e+00, -1.62532081e+00, -5.66537509e-01,\n",
       "        -5.23166361e-01],\n",
       "       [-7.40152746e-01,  9.26997885e-01, -5.66537509e-01,\n",
       "         1.91143788e+00],\n",
       "       [-7.40152746e-01,  2.31917172e+00, -5.66537509e-01,\n",
       "         1.91143788e+00],\n",
       "       [ 1.35107247e+00,  1.70042779e+00,  1.76510819e+00,\n",
       "        -5.23166361e-01],\n",
       "       [-7.40152746e-01, -9.29233892e-01, -5.66537509e-01,\n",
       "         1.91143788e+00],\n",
       "       [-7.40152746e-01, -9.29233892e-01, -5.66537509e-01,\n",
       "        -5.23166361e-01],\n",
       "       [-7.40152746e-01, -6.19861929e-01, -5.66537509e-01,\n",
       "        -5.23166361e-01],\n",
       "       [-7.40152746e-01,  2.70588667e+00,  1.76510819e+00,\n",
       "        -5.23166361e-01],\n",
       "       [ 1.35107247e+00, -2.43891447e-02, -5.66537509e-01,\n",
       "        -5.23166361e-01],\n",
       "       [-7.40152746e-01,  3.08253959e-01, -5.66537509e-01,\n",
       "        -5.23166361e-01],\n",
       "       [ 1.35107247e+00,  1.08168387e+00, -5.66537509e-01,\n",
       "         1.91143788e+00],\n",
       "       [-7.40152746e-01,  2.31917172e+00,  1.76510819e+00,\n",
       "        -5.23166361e-01],\n",
       "       [ 1.35107247e+00, -1.00657688e+00, -5.66537509e-01,\n",
       "         1.91143788e+00],\n",
       "       [-7.40152746e-01, -7.84609944e-02, -5.66537509e-01,\n",
       "        -5.23166361e-01],\n",
       "       [ 1.35107247e+00,  1.54574181e+00,  1.76510819e+00,\n",
       "        -5.23166361e-01],\n",
       "       [-7.40152746e-01, -1.17132490e-01, -5.66537509e-01,\n",
       "        -5.23166361e-01],\n",
       "       [-7.40152746e-01,  4.62939941e-01,  1.76510819e+00,\n",
       "        -5.23166361e-01],\n",
       "       [ 1.35107247e+00, -1.23860585e+00, -5.66537509e-01,\n",
       "        -5.23166361e-01],\n",
       "       [-7.40152746e-01, -7.84609944e-02,  1.76510819e+00,\n",
       "        -5.23166361e-01],\n",
       "       [-7.40152746e-01, -2.43891447e-02, -5.66537509e-01,\n",
       "         1.91143788e+00],\n",
       "       [-7.40152746e-01, -3.87832957e-01, -5.66537509e-01,\n",
       "        -5.23166361e-01],\n",
       "       [-7.40152746e-01, -2.43891447e-02,  1.76510819e+00,\n",
       "        -5.23166361e-01],\n",
       "       [ 1.35107247e+00, -1.55803985e-01, -5.66537509e-01,\n",
       "         1.91143788e+00],\n",
       "       [-7.40152746e-01, -1.55803985e-01, -5.66537509e-01,\n",
       "        -5.23166361e-01],\n",
       "       [-7.40152746e-01, -2.43891447e-02, -5.66537509e-01,\n",
       "        -5.23166361e-01],\n",
       "       [ 1.35107247e+00, -1.11800367e-03,  1.76510819e+00,\n",
       "        -5.23166361e-01],\n",
       "       [-7.40152746e-01, -1.17132490e-01, -5.66537509e-01,\n",
       "        -5.23166361e-01],\n",
       "       [-7.40152746e-01,  2.30910968e-01, -5.66537509e-01,\n",
       "        -5.23166361e-01],\n",
       "       [ 1.35107247e+00, -2.01203576e+00, -5.66537509e-01,\n",
       "        -5.23166361e-01],\n",
       "       [ 1.35107247e+00, -4.65175948e-01, -5.66537509e-01,\n",
       "         1.91143788e+00],\n",
       "       [ 1.35107247e+00, -2.43891447e-02, -5.66537509e-01,\n",
       "        -5.23166361e-01],\n",
       "       [ 1.35107247e+00,  2.55120069e+00, -5.66537509e-01,\n",
       "        -5.23166361e-01],\n",
       "       [ 1.35107247e+00, -2.01203576e+00, -5.66537509e-01,\n",
       "         1.91143788e+00],\n",
       "       [-7.40152746e-01, -9.29233892e-01, -5.66537509e-01,\n",
       "        -5.23166361e-01],\n",
       "       [-7.40152746e-01,  1.31371284e+00,  1.76510819e+00,\n",
       "        -5.23166361e-01],\n",
       "       [-7.40152746e-01, -7.74547911e-01, -5.66537509e-01,\n",
       "        -5.23166361e-01],\n",
       "       [ 1.35107247e+00, -2.43891447e-02, -5.66537509e-01,\n",
       "        -5.23166361e-01],\n",
       "       [ 1.35107247e+00,  2.16448574e+00,  1.76510819e+00,\n",
       "        -5.23166361e-01],\n",
       "       [ 1.35107247e+00, -9.29233892e-01, -5.66537509e-01,\n",
       "        -5.23166361e-01],\n",
       "       [-7.40152746e-01,  2.30910968e-01, -5.66537509e-01,\n",
       "        -5.23166361e-01],\n",
       "       [-7.40152746e-01, -1.08391987e+00, -5.66537509e-01,\n",
       "        -5.23166361e-01],\n",
       "       [-7.40152746e-01,  3.08253959e-01, -5.66537509e-01,\n",
       "        -5.23166361e-01],\n",
       "       [ 1.35107247e+00,  4.62939941e-01,  1.76510819e+00,\n",
       "        -5.23166361e-01],\n",
       "       [-7.40152746e-01, -7.84609944e-02, -5.66537509e-01,\n",
       "        -5.23166361e-01],\n",
       "       [-7.40152746e-01,  6.17625922e-01, -5.66537509e-01,\n",
       "        -5.23166361e-01],\n",
       "       [-7.40152746e-01, -2.43891447e-02,  1.76510819e+00,\n",
       "        -5.23166361e-01],\n",
       "       [-7.40152746e-01, -2.43891447e-02, -5.66537509e-01,\n",
       "        -5.23166361e-01],\n",
       "       [-7.40152746e-01, -2.43891447e-02, -5.66537509e-01,\n",
       "        -5.23166361e-01],\n",
       "       [-7.40152746e-01,  1.53567978e-01, -5.66537509e-01,\n",
       "        -5.23166361e-01],\n",
       "       [-7.40152746e-01, -2.01203576e+00, -5.66537509e-01,\n",
       "        -5.23166361e-01],\n",
       "       [-7.40152746e-01, -1.55803985e-01, -5.66537509e-01,\n",
       "         1.91143788e+00],\n",
       "       [-7.40152746e-01, -2.25025217e+00,  1.76510819e+00,\n",
       "        -5.23166361e-01],\n",
       "       [-7.40152746e-01, -2.43891447e-02, -5.66537509e-01,\n",
       "        -5.23166361e-01],\n",
       "       [-7.40152746e-01, -1.55803985e-01, -5.66537509e-01,\n",
       "        -5.23166361e-01],\n",
       "       [ 1.35107247e+00, -7.74547911e-01, -5.66537509e-01,\n",
       "        -5.23166361e-01],\n",
       "       [-7.40152746e-01, -1.11800367e-03, -5.66537509e-01,\n",
       "         1.91143788e+00],\n",
       "       [-7.40152746e-01,  3.08253959e-01,  1.76510819e+00,\n",
       "        -5.23166361e-01],\n",
       "       [-7.40152746e-01, -2.08937875e+00, -5.66537509e-01,\n",
       "        -5.23166361e-01],\n",
       "       [-7.40152746e-01,  1.15902686e+00,  1.76510819e+00,\n",
       "        -5.23166361e-01],\n",
       "       [ 1.35107247e+00, -9.29233892e-01, -5.66537509e-01,\n",
       "        -5.23166361e-01],\n",
       "       [ 1.35107247e+00, -9.29233892e-01, -5.66537509e-01,\n",
       "        -5.23166361e-01],\n",
       "       [-7.40152746e-01, -4.65175948e-01, -5.66537509e-01,\n",
       "        -5.23166361e-01],\n",
       "       [-7.40152746e-01,  7.62249870e-02,  1.76510819e+00,\n",
       "        -5.23166361e-01],\n",
       "       [ 1.35107247e+00, -1.11800367e-03,  1.76510819e+00,\n",
       "        -5.23166361e-01],\n",
       "       [ 1.35107247e+00, -6.19861929e-01, -5.66537509e-01,\n",
       "         1.91143788e+00],\n",
       "       [-7.40152746e-01, -4.65175948e-01, -5.66537509e-01,\n",
       "        -5.23166361e-01],\n",
       "       [ 1.35107247e+00, -6.97204920e-01, -5.66537509e-01,\n",
       "        -5.23166361e-01],\n",
       "       [-7.40152746e-01, -3.87832957e-01, -5.66537509e-01,\n",
       "        -5.23166361e-01],\n",
       "       [-7.40152746e-01, -3.10489966e-01, -5.66537509e-01,\n",
       "        -5.23166361e-01],\n",
       "       [-7.40152746e-01, -8.51890901e-01, -5.66537509e-01,\n",
       "        -5.23166361e-01],\n",
       "       [-7.40152746e-01,  9.26997885e-01,  1.76510819e+00,\n",
       "        -5.23166361e-01],\n",
       "       [-7.40152746e-01, -8.51890901e-01, -5.66537509e-01,\n",
       "        -5.23166361e-01],\n",
       "       [-7.40152746e-01,  1.85511377e+00, -5.66537509e-01,\n",
       "         1.91143788e+00],\n",
       "       [-7.40152746e-01, -2.33146976e-01, -5.66537509e-01,\n",
       "        -5.23166361e-01],\n",
       "       [-7.40152746e-01, -6.97204920e-01, -5.66537509e-01,\n",
       "        -5.23166361e-01],\n",
       "       [ 1.35107247e+00,  1.92239473e-01, -5.66537509e-01,\n",
       "         1.91143788e+00],\n",
       "       [ 1.35107247e+00, -2.43891447e-02,  1.76510819e+00,\n",
       "        -5.23166361e-01],\n",
       "       [ 1.35107247e+00, -2.43891447e-02, -5.66537509e-01,\n",
       "        -5.23166361e-01],\n",
       "       [ 1.35107247e+00, -1.11800367e-03,  1.76510819e+00,\n",
       "        -5.23166361e-01],\n",
       "       [ 1.35107247e+00, -6.19861929e-01, -5.66537509e-01,\n",
       "        -5.23166361e-01],\n",
       "       [ 1.35107247e+00, -1.55803985e-01, -5.66537509e-01,\n",
       "         1.91143788e+00],\n",
       "       [-7.40152746e-01, -6.19861929e-01,  1.76510819e+00,\n",
       "        -5.23166361e-01],\n",
       "       [-7.40152746e-01, -2.43891447e-02,  1.76510819e+00,\n",
       "        -5.23166361e-01],\n",
       "       [ 1.35107247e+00, -1.55803985e-01, -5.66537509e-01,\n",
       "         1.91143788e+00],\n",
       "       [ 1.35107247e+00, -1.00657688e+00,  1.76510819e+00,\n",
       "        -5.23166361e-01],\n",
       "       [-7.40152746e-01,  7.72311903e-01, -5.66537509e-01,\n",
       "        -5.23166361e-01],\n",
       "       [-7.40152746e-01, -8.51890901e-01, -5.66537509e-01,\n",
       "        -5.23166361e-01],\n",
       "       [-7.40152746e-01, -4.65175948e-01, -5.66537509e-01,\n",
       "        -5.23166361e-01],\n",
       "       [-7.40152746e-01, -1.55803985e-01, -5.66537509e-01,\n",
       "         1.91143788e+00],\n",
       "       [-7.40152746e-01, -1.39329184e+00, -5.66537509e-01,\n",
       "        -5.23166361e-01],\n",
       "       [-7.40152746e-01, -8.51890901e-01, -5.66537509e-01,\n",
       "        -5.23166361e-01],\n",
       "       [-7.40152746e-01,  1.46839882e+00,  1.76510819e+00,\n",
       "        -5.23166361e-01],\n",
       "       [-7.40152746e-01,  7.72311903e-01, -5.66537509e-01,\n",
       "        -5.23166361e-01],\n",
       "       [ 1.35107247e+00,  1.85511377e+00,  1.76510819e+00,\n",
       "        -5.23166361e-01],\n",
       "       [-7.40152746e-01, -6.97204920e-01, -5.66537509e-01,\n",
       "        -5.23166361e-01]])"
      ]
     },
     "execution_count": 14,
     "metadata": {},
     "output_type": "execute_result"
    }
   ],
   "source": [
    "scaler = StandardScaler()\n",
    "scaler.fit_transform(x_train)\n",
    "scaler.transform(x_test)"
   ]
  },
  {
   "cell_type": "markdown",
   "metadata": {},
   "source": [
    "#### Task 10"
   ]
  },
  {
   "cell_type": "markdown",
   "metadata": {},
   "source": [
    "Create a LogisticRegression model with sklearn and .fit() it on the training data."
   ]
  },
  {
   "cell_type": "code",
   "execution_count": 15,
   "metadata": {},
   "outputs": [
    {
     "data": {
      "text/plain": [
       "LogisticRegression()"
      ]
     },
     "execution_count": 15,
     "metadata": {},
     "output_type": "execute_result"
    }
   ],
   "source": [
    "model = LogisticRegression()\n",
    "model.fit(x_train, y_train)"
   ]
  },
  {
   "cell_type": "markdown",
   "metadata": {},
   "source": [
    "#### Task 11"
   ]
  },
  {
   "cell_type": "markdown",
   "metadata": {},
   "source": [
    "`score()` the model on the training data and print the training score."
   ]
  },
  {
   "cell_type": "code",
   "execution_count": 16,
   "metadata": {},
   "outputs": [
    {
     "name": "stdout",
     "output_type": "stream",
     "text": [
      "score() the model on test data:\n",
      "0.7932960893854749\n"
     ]
    }
   ],
   "source": [
    "print('score() the model on test data:')\n",
    "print(model.score(x_test, y_test))"
   ]
  },
  {
   "cell_type": "markdown",
   "metadata": {},
   "source": [
    "#### Task 12"
   ]
  },
  {
   "cell_type": "markdown",
   "metadata": {},
   "source": [
    "Print the feature coefficients determined by the model. Which feature is most important in predicting survival on the sinking of the Titanic?"
   ]
  },
  {
   "cell_type": "code",
   "execution_count": 17,
   "metadata": {},
   "outputs": [
    {
     "name": "stdout",
     "output_type": "stream",
     "text": [
      "[('Sex', 2.4560735256011776), ('Age', -0.03175818716691897), ('FirstClass', 2.1780424091829573), ('SecondClass', 1.1247334441022996)]\n"
     ]
    }
   ],
   "source": [
    "print(list(zip(['Sex', 'Age', 'FirstClass', 'SecondClass'],model.coef_[0])))"
   ]
  },
  {
   "cell_type": "markdown",
   "metadata": {},
   "source": [
    "The most important features is **Sex**"
   ]
  },
  {
   "cell_type": "markdown",
   "metadata": {},
   "source": [
    "#### Task 13"
   ]
  },
  {
   "cell_type": "markdown",
   "metadata": {},
   "source": [
    "Let’s use our model to make predictions on the survival of a few fateful passengers. Provided in the code editor is information for 3rd class passenger Jack and 1st class passenger Rose, stored in NumPy arrays."
   ]
  },
  {
   "cell_type": "code",
   "execution_count": 18,
   "metadata": {},
   "outputs": [],
   "source": [
    "Jack = np.array([0.0,20.0,0.0,0.0])\n",
    "Rose = np.array([1.0,17.0,1.0,0.0])\n",
    "Me = np.array([1.0,30.0,0.0,1.0])"
   ]
  },
  {
   "cell_type": "code",
   "execution_count": 19,
   "metadata": {},
   "outputs": [],
   "source": [
    "sample_passangers = np.array([Jack, Rose, Me])"
   ]
  },
  {
   "cell_type": "markdown",
   "metadata": {},
   "source": [
    "#### Task 14"
   ]
  },
  {
   "cell_type": "markdown",
   "metadata": {},
   "source": [
    "Since our Logistic Regression model was trained on scaled feature data, we must also scale the feature data we are making predictions on.\n",
    "\n",
    "Using the StandardScaler object created earlier, apply its `.transform() method` to `sample_passengers` and save the result to `sample_passengers`."
   ]
  },
  {
   "cell_type": "code",
   "execution_count": 20,
   "metadata": {},
   "outputs": [
    {
     "name": "stdout",
     "output_type": "stream",
     "text": [
      "[0 1 1]\n"
     ]
    }
   ],
   "source": [
    "print(model.predict(sample_passangers))"
   ]
  },
  {
   "cell_type": "code",
   "execution_count": 21,
   "metadata": {},
   "outputs": [
    {
     "name": "stdout",
     "output_type": "stream",
     "text": [
      "[[0.8764594  0.1235406 ]\n",
      " [0.05896313 0.94103687]\n",
      " [0.21350863 0.78649137]]\n"
     ]
    }
   ],
   "source": [
    "print(model.predict_proba(sample_passangers))"
   ]
  },
  {
   "cell_type": "code",
   "execution_count": null,
   "metadata": {},
   "outputs": [],
   "source": []
  }
 ],
 "metadata": {
  "kernelspec": {
   "display_name": "Python 3",
   "language": "python",
   "name": "python3"
  },
  "language_info": {
   "codemirror_mode": {
    "name": "ipython",
    "version": 3
   },
   "file_extension": ".py",
   "mimetype": "text/x-python",
   "name": "python",
   "nbconvert_exporter": "python",
   "pygments_lexer": "ipython3",
   "version": "3.8.3"
  }
 },
 "nbformat": 4,
 "nbformat_minor": 4
}
